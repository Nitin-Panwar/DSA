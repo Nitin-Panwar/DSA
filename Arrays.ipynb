{
 "cells": [
  {
   "cell_type": "code",
   "execution_count": 5,
   "metadata": {},
   "outputs": [
    {
     "name": "stdout",
     "output_type": "stream",
     "text": [
      "[2, 3, 4, 5, 6, 1]\n",
      "[2, 3, 4, 5, 6, 1]\n"
     ]
    }
   ],
   "source": [
    "#1. Write a function rotate(ar[], d, n) that rotates arr[] of size n by d elements.\n",
    "\n",
    "a = [1,2,3,4,5,6]\n",
    "d =1\n",
    "\n",
    "def rotate1(a, d):\n",
    "    l = len(a)\n",
    "    if d<l:\n",
    "        for k in range(0,d):\n",
    "            i=0\n",
    "            temp = a[i]\n",
    "            for j in range(i,l-1):\n",
    "                a[j] = a[j+1]\n",
    "            a[l-1] = temp\n",
    "        print(a)\n",
    "rotate1(a,d)\n",
    "# complexity - o(n*d)\n",
    "\n",
    "# -----------------------------------------------------\n",
    "a = [1,2,3,4,5,6]\n",
    "def rotate2(a, d):\n",
    "    l = len(a)\n",
    "    temp = a[:d]\n",
    "    for i in range(l-d):\n",
    "        a[i] = a[d+i]\n",
    "    a[-d:] = temp\n",
    "    print(a)\n",
    "\n",
    "    \n",
    "rotate2(a,d)\n",
    "# complexity - O(n)\n",
    "        "
   ]
  },
  {
   "cell_type": "code",
   "execution_count": 9,
   "metadata": {},
   "outputs": [
    {
     "name": "stdout",
     "output_type": "stream",
     "text": [
      "[1, 2, 4, 3, 5, 6]\n"
     ]
    }
   ],
   "source": [
    "# 2. Reverse an array\n",
    "def reverse(a, start, end):\n",
    "    while(start<end):\n",
    "        temp = a[start]\n",
    "        a[start] = a[end]\n",
    "        a[end] = temp\n",
    "        start =start+1\n",
    "        end = end-1\n",
    "    print(a)\n",
    "    \n",
    "    \n",
    "a = [1,2,3,4,5,6]\n",
    "reverse1(a,2,3)"
   ]
  },
  {
   "cell_type": "code",
   "execution_count": 20,
   "metadata": {},
   "outputs": [
    {
     "name": "stdout",
     "output_type": "stream",
     "text": [
      "[4, 5, 6, 1, 2, 3]\n"
     ]
    }
   ],
   "source": [
    "# 3. Program to cyclically rotate an array by one\n",
    "def c_rotate(a):\n",
    "    l = len(a)\n",
    "    temp = a[l-1]\n",
    "    for i in range(l):\n",
    "        a[l-1-i]=a[l-2-i]\n",
    "    a[0] = temp\n",
    "    print(a)\n",
    "    \n",
    "    \n",
    "def c_rotate1(a,n):\n",
    "    l = len(a)\n",
    "    while(n):\n",
    "        temp = a[l-1]\n",
    "        for i in range(l):\n",
    "            a[l-1-i]=a[l-2-i]\n",
    "        a[0] = temp\n",
    "        n=n-1\n",
    "    print(a)\n",
    "    \n",
    "def c_rotate2(a,n):\n",
    "    l = len(a)\n",
    "    t1 = a[:n]\n",
    "    t2 = a[n:]\n",
    "    print([a for a in (t2+t1)])\n",
    "    \n",
    "a = [1,2,3,4,5,6]\n",
    "c_rotate2(a,3)"
   ]
  },
  {
   "cell_type": "code",
   "execution_count": 58,
   "metadata": {},
   "outputs": [
    {
     "name": "stdout",
     "output_type": "stream",
     "text": [
      "4\n",
      "None\n"
     ]
    }
   ],
   "source": [
    "# 4. binary search \n",
    "def b_search(a,s,e,d):\n",
    "    if s>e:\n",
    "        return -1\n",
    "    mid = int((s+e)/2)\n",
    "    if d ==a[mid]:\n",
    "        print(mid)\n",
    "    elif d < a[mid]:\n",
    "        b_search(a, 0,mid-1, d)\n",
    "    else: \n",
    "        b_search(a, mid+1,e, d)\n",
    "    \n",
    "    \n",
    "a = [1,2,3,4,5,6]\n",
    "l = len(a)\n",
    "print(b_search(a,0,l-1,5))"
   ]
  },
  {
   "cell_type": "code",
   "execution_count": 63,
   "metadata": {},
   "outputs": [
    {
     "name": "stdout",
     "output_type": "stream",
     "text": [
      "2\n"
     ]
    }
   ],
   "source": [
    "# 5. Find number of rotations - \n",
    "def find_rotatations(a,l):\n",
    "    for i in range(l):\n",
    "        if a[i]>a[i+1]:\n",
    "            break;\n",
    "    print(i+1)\n",
    "\n",
    "a = [15, 18, 2, 3, 6, 12] \n",
    "l = len(a)\n",
    "find_rotatations(a, l)"
   ]
  },
  {
   "cell_type": "code",
   "execution_count": 68,
   "metadata": {},
   "outputs": [
    {
     "name": "stdout",
     "output_type": "stream",
     "text": [
      "[1, 2, 3, 6, 3, 2, 1, 0, 0, 0]\n"
     ]
    }
   ],
   "source": [
    "# 6. All zeros to the end \n",
    "def zero_to_end(a, l):\n",
    "    for i in range(l):\n",
    "        if a[i]==0:\n",
    "            for j in range(i,l-1):\n",
    "                a[j] = a[j+1]\n",
    "            a[l-1]=0\n",
    "    print(a)\n",
    "    \n",
    "a = [1,2,3,0,6,3,0,2,1,0]\n",
    "l= len(a)\n",
    "\n",
    "zero_to_end(a,l)"
   ]
  },
  {
   "cell_type": "code",
   "execution_count": 13,
   "metadata": {},
   "outputs": [
    {
     "name": "stdout",
     "output_type": "stream",
     "text": [
      "3\n"
     ]
    },
    {
     "ename": "IndexError",
     "evalue": "list assignment index out of range",
     "output_type": "error",
     "traceback": [
      "\u001b[0;31m---------------------------------------------------------------------------\u001b[0m",
      "\u001b[0;31mIndexError\u001b[0m                                Traceback (most recent call last)",
      "\u001b[0;32m<ipython-input-13-94a74d133b71>\u001b[0m in \u001b[0;36m<module>\u001b[0;34m\u001b[0m\n\u001b[1;32m     12\u001b[0m \u001b[0ma\u001b[0m \u001b[0;34m=\u001b[0m \u001b[0;34m[\u001b[0m\u001b[0;34m[\u001b[0m\u001b[0;36m1\u001b[0m\u001b[0;34m,\u001b[0m\u001b[0;36m2\u001b[0m\u001b[0;34m,\u001b[0m\u001b[0;36m3\u001b[0m\u001b[0;34m]\u001b[0m\u001b[0;34m,\u001b[0m\u001b[0;34m[\u001b[0m\u001b[0;36m4\u001b[0m\u001b[0;34m,\u001b[0m\u001b[0;36m5\u001b[0m\u001b[0;34m,\u001b[0m\u001b[0;36m6\u001b[0m\u001b[0;34m]\u001b[0m\u001b[0;34m,\u001b[0m\u001b[0;34m[\u001b[0m\u001b[0;36m7\u001b[0m\u001b[0;34m,\u001b[0m\u001b[0;36m8\u001b[0m\u001b[0;34m,\u001b[0m\u001b[0;36m9\u001b[0m\u001b[0;34m]\u001b[0m\u001b[0;34m]\u001b[0m\u001b[0;34m\u001b[0m\u001b[0;34m\u001b[0m\u001b[0m\n\u001b[1;32m     13\u001b[0m \u001b[0mprint\u001b[0m\u001b[0;34m(\u001b[0m\u001b[0mlen\u001b[0m\u001b[0;34m(\u001b[0m\u001b[0ma\u001b[0m\u001b[0;34m[\u001b[0m\u001b[0;36m0\u001b[0m\u001b[0;34m]\u001b[0m\u001b[0;34m)\u001b[0m\u001b[0;34m)\u001b[0m\u001b[0;34m\u001b[0m\u001b[0;34m\u001b[0m\u001b[0m\n\u001b[0;32m---> 14\u001b[0;31m \u001b[0mrotate_c\u001b[0m\u001b[0;34m(\u001b[0m\u001b[0ma\u001b[0m\u001b[0;34m)\u001b[0m\u001b[0;34m\u001b[0m\u001b[0;34m\u001b[0m\u001b[0m\n\u001b[0m",
      "\u001b[0;32m<ipython-input-13-94a74d133b71>\u001b[0m in \u001b[0;36mrotate_c\u001b[0;34m(a)\u001b[0m\n\u001b[1;32m      4\u001b[0m         \u001b[0;32mfor\u001b[0m \u001b[0mj\u001b[0m \u001b[0;32min\u001b[0m \u001b[0mrange\u001b[0m\u001b[0;34m(\u001b[0m\u001b[0;36m3\u001b[0m\u001b[0;34m)\u001b[0m\u001b[0;34m:\u001b[0m\u001b[0;34m\u001b[0m\u001b[0;34m\u001b[0m\u001b[0m\n\u001b[1;32m      5\u001b[0m             \u001b[0;32mif\u001b[0m \u001b[0mi\u001b[0m\u001b[0;34m==\u001b[0m\u001b[0;36m0\u001b[0m\u001b[0;34m:\u001b[0m\u001b[0;34m\u001b[0m\u001b[0;34m\u001b[0m\u001b[0m\n\u001b[0;32m----> 6\u001b[0;31m                 \u001b[0ma\u001b[0m\u001b[0;34m[\u001b[0m\u001b[0mi\u001b[0m\u001b[0;34m]\u001b[0m\u001b[0;34m[\u001b[0m\u001b[0mj\u001b[0m\u001b[0;34m+\u001b[0m\u001b[0;36m1\u001b[0m\u001b[0;34m]\u001b[0m \u001b[0;34m=\u001b[0m \u001b[0ma\u001b[0m\u001b[0;34m[\u001b[0m\u001b[0mi\u001b[0m\u001b[0;34m]\u001b[0m\u001b[0;34m[\u001b[0m\u001b[0mj\u001b[0m\u001b[0;34m]\u001b[0m\u001b[0;34m\u001b[0m\u001b[0;34m\u001b[0m\u001b[0m\n\u001b[0m\u001b[1;32m      7\u001b[0m             \u001b[0;32mif\u001b[0m \u001b[0mj\u001b[0m\u001b[0;34m==\u001b[0m\u001b[0mlen\u001b[0m\u001b[0;34m(\u001b[0m\u001b[0ma\u001b[0m\u001b[0;34m[\u001b[0m\u001b[0;36m0\u001b[0m\u001b[0;34m]\u001b[0m\u001b[0;34m)\u001b[0m\u001b[0;34m:\u001b[0m\u001b[0;34m\u001b[0m\u001b[0;34m\u001b[0m\u001b[0m\n\u001b[1;32m      8\u001b[0m                 \u001b[0ma\u001b[0m\u001b[0;34m[\u001b[0m\u001b[0mi\u001b[0m\u001b[0;34m]\u001b[0m\u001b[0;34m[\u001b[0m\u001b[0mj\u001b[0m\u001b[0;34m+\u001b[0m\u001b[0;36m1\u001b[0m\u001b[0;34m]\u001b[0m \u001b[0;34m=\u001b[0m \u001b[0ma\u001b[0m\u001b[0;34m[\u001b[0m\u001b[0mi\u001b[0m\u001b[0;34m]\u001b[0m\u001b[0;34m[\u001b[0m\u001b[0mj\u001b[0m\u001b[0;34m]\u001b[0m\u001b[0;34m\u001b[0m\u001b[0;34m\u001b[0m\u001b[0m\n",
      "\u001b[0;31mIndexError\u001b[0m: list assignment index out of range"
     ]
    }
   ],
   "source": [
    "#7. Rotate matrix clockwise\n",
    "def rotate_c(a):\n",
    "    \n",
    "    for i in range(3):\n",
    "        for j in range(3):\n",
    "            if i==0:\n",
    "                a[i][j+1] = a[i][j]\n",
    "            if j==len(a[0]):\n",
    "                a[i][j+1] = a[i][j]\n",
    "                \n",
    "    print(a[1][2])\n",
    "    \n",
    "a = [[1,2,3],[4,5,6],[7,8,9]]\n",
    "print(len(a[0]))\n",
    "rotate_c(a)"
   ]
  },
  {
   "cell_type": "code",
   "execution_count": 4,
   "metadata": {},
   "outputs": [
    {
     "ename": "TypeError",
     "evalue": "'builtin_function_or_method' object is not iterable",
     "output_type": "error",
     "traceback": [
      "\u001b[0;31m---------------------------------------------------------------------------\u001b[0m",
      "\u001b[0;31mTypeError\u001b[0m                                 Traceback (most recent call last)",
      "\u001b[0;32m<ipython-input-4-35d93034e080>\u001b[0m in \u001b[0;36m<module>\u001b[0;34m\u001b[0m\n\u001b[1;32m      2\u001b[0m \u001b[0mlen\u001b[0m\u001b[0;34m(\u001b[0m\u001b[0ma\u001b[0m\u001b[0;34m)\u001b[0m\u001b[0;34m\u001b[0m\u001b[0;34m\u001b[0m\u001b[0m\n\u001b[1;32m      3\u001b[0m \u001b[0;34m\u001b[0m\u001b[0m\n\u001b[0;32m----> 4\u001b[0;31m \u001b[0;32mfor\u001b[0m \u001b[0mi\u001b[0m \u001b[0;32min\u001b[0m \u001b[0ma\u001b[0m\u001b[0;34m.\u001b[0m\u001b[0mindex\u001b[0m\u001b[0;34m:\u001b[0m\u001b[0;34m\u001b[0m\u001b[0;34m\u001b[0m\u001b[0m\n\u001b[0m\u001b[1;32m      5\u001b[0m     \u001b[0mprint\u001b[0m\u001b[0;34m(\u001b[0m\u001b[0mi\u001b[0m\u001b[0;34m)\u001b[0m\u001b[0;34m\u001b[0m\u001b[0;34m\u001b[0m\u001b[0m\n",
      "\u001b[0;31mTypeError\u001b[0m: 'builtin_function_or_method' object is not iterable"
     ]
    }
   ],
   "source": [
    "a = [1,2,3]\n",
    "len(a)\n",
    "\n",
    "for i in a.index:\n",
    "    print(i)"
   ]
  },
  {
   "cell_type": "code",
   "execution_count": 13,
   "metadata": {},
   "outputs": [
    {
     "name": "stdout",
     "output_type": "stream",
     "text": [
      "['my', 'name', 'is', 'nitin', 'panwar']\n",
      " panwar nitin is name my\n"
     ]
    }
   ],
   "source": [
    "#7. find sum\n",
    "def reverse(a):\n",
    "    a = a.split()\n",
    "    print(a)\n",
    "    temp = ''\n",
    "    for i in range(len(a)-1, -1, -1):\n",
    "        temp = temp+' '+ a[i]\n",
    "    return temp\n",
    "\n",
    "a =\"my name is nitin panwar\"\n",
    "print(reverse(a))"
   ]
  },
  {
   "cell_type": "code",
   "execution_count": 3,
   "metadata": {},
   "outputs": [
    {
     "data": {
      "text/plain": [
       "[5, 4, 3, 2, 1]"
      ]
     },
     "execution_count": 3,
     "metadata": {},
     "output_type": "execute_result"
    }
   ],
   "source": [
    "def reverse(a):\n",
    "    n = len(a)\n",
    "    for i in range(int(n/2)):\n",
    "        temp = a[i]\n",
    "        a[i] = a[-i-1]\n",
    "        a[-i-1] = temp\n",
    "        \n",
    "    return a\n",
    "a = [1,2,3,4,5]\n",
    "reverse(a)"
   ]
  },
  {
   "cell_type": "code",
   "execution_count": 8,
   "metadata": {},
   "outputs": [
    {
     "ename": "AttributeError",
     "evalue": "module 'math' has no attribute 'sort'",
     "output_type": "error",
     "traceback": [
      "\u001b[0;31m---------------------------------------------------------------------------\u001b[0m",
      "\u001b[0;31mAttributeError\u001b[0m                            Traceback (most recent call last)",
      "\u001b[0;32m<ipython-input-8-faae8bee0c51>\u001b[0m in \u001b[0;36m<module>\u001b[0;34m\u001b[0m\n\u001b[1;32m     23\u001b[0m \u001b[0;34m\u001b[0m\u001b[0m\n\u001b[1;32m     24\u001b[0m \u001b[0ma\u001b[0m\u001b[0;34m=\u001b[0m \u001b[0;34m[\u001b[0m\u001b[0;36m2\u001b[0m\u001b[0;34m,\u001b[0m\u001b[0;36m4\u001b[0m\u001b[0;34m,\u001b[0m\u001b[0;36m5\u001b[0m\u001b[0;34m,\u001b[0m\u001b[0;36m9\u001b[0m\u001b[0;34m,\u001b[0m\u001b[0;36m11\u001b[0m\u001b[0;34m]\u001b[0m\u001b[0;34m\u001b[0m\u001b[0;34m\u001b[0m\u001b[0m\n\u001b[0;32m---> 25\u001b[0;31m \u001b[0mk_th_max_min\u001b[0m\u001b[0;34m(\u001b[0m\u001b[0ma\u001b[0m\u001b[0;34m,\u001b[0m\u001b[0;36m2\u001b[0m\u001b[0;34m)\u001b[0m\u001b[0;34m\u001b[0m\u001b[0;34m\u001b[0m\u001b[0m\n\u001b[0m",
      "\u001b[0;32m<ipython-input-8-faae8bee0c51>\u001b[0m in \u001b[0;36mk_th_max_min\u001b[0;34m(a, p)\u001b[0m\n\u001b[1;32m     18\u001b[0m \u001b[0;34m\u001b[0m\u001b[0m\n\u001b[1;32m     19\u001b[0m \u001b[0;32mdef\u001b[0m \u001b[0mk_th_max_min\u001b[0m\u001b[0;34m(\u001b[0m\u001b[0ma\u001b[0m\u001b[0;34m,\u001b[0m\u001b[0mp\u001b[0m\u001b[0;34m)\u001b[0m\u001b[0;34m:\u001b[0m\u001b[0;34m\u001b[0m\u001b[0;34m\u001b[0m\u001b[0m\n\u001b[0;32m---> 20\u001b[0;31m     \u001b[0ma\u001b[0m \u001b[0;34m=\u001b[0m \u001b[0mmath\u001b[0m\u001b[0;34m.\u001b[0m\u001b[0msort\u001b[0m\u001b[0;34m(\u001b[0m\u001b[0ma\u001b[0m\u001b[0;34m)\u001b[0m\u001b[0;34m\u001b[0m\u001b[0;34m\u001b[0m\u001b[0m\n\u001b[0m\u001b[1;32m     21\u001b[0m     \u001b[0mmax1\u001b[0m \u001b[0;34m=\u001b[0m\u001b[0ma\u001b[0m\u001b[0;34m[\u001b[0m\u001b[0;36m0\u001b[0m\u001b[0;34m]\u001b[0m\u001b[0;34m\u001b[0m\u001b[0;34m\u001b[0m\u001b[0m\n\u001b[1;32m     22\u001b[0m     \u001b[0mmin1\u001b[0m \u001b[0;34m=\u001b[0m\u001b[0ma\u001b[0m\u001b[0;34m[\u001b[0m\u001b[0;36m0\u001b[0m\u001b[0;34m]\u001b[0m\u001b[0;34m\u001b[0m\u001b[0;34m\u001b[0m\u001b[0m\n",
      "\u001b[0;31mAttributeError\u001b[0m: module 'math' has no attribute 'sort'"
     ]
    }
   ],
   "source": [
    "## max and min element in an array\n",
    "import math\n",
    "\n",
    "def max_min(a):\n",
    "    max1 =a[0]\n",
    "    min1 =a[0]\n",
    "    for item in a:\n",
    "        if item>max1:\n",
    "            max1=item\n",
    "        elif item<min1:\n",
    "            min1 =item\n",
    "    return (max1, min1)\n",
    "\n",
    "def max_min1(a):\n",
    "    max1 =max(a)\n",
    "    min1 =min(a)\n",
    "    return (max1, min1)\n",
    "\n",
    "def k_th_max_min(a,p):\n",
    "    a = math.sort(a)\n",
    "    max1 =a[0]\n",
    "    min1 =a[0]\n",
    "\n",
    "a= [2,4,5,9,11]\n",
    "k_th_max_min(a,2)"
   ]
  },
  {
   "cell_type": "code",
   "execution_count": 7,
   "metadata": {},
   "outputs": [
    {
     "name": "stdout",
     "output_type": "stream",
     "text": [
      "0 0\n",
      "0 1\n",
      "1 1\n",
      "1 2\n",
      "2 2\n"
     ]
    }
   ],
   "source": [
    "def find_median(a,b):\n",
    "    m  = len(a)\n",
    "    n = len(b)\n",
    "    i = 0\n",
    "    j=0\n",
    "    print()\n",
    "    while((i+j)<=(m+n)/2):\n",
    "        print(i,j)\n",
    "        if a[i]>=a[j]:\n",
    "            if j<n:\n",
    "                j=j+1\n",
    "            else: \n",
    "                i=i+1\n",
    "        else:\n",
    "            if i<m:\n",
    "                i=i+1\n",
    "            else:\n",
    "                j=j+1\n",
    "#     print(i, j)\n",
    "        \n",
    "        \n",
    "a = [1,2,3,4,5]\n",
    "b= [6,7,8,9]\n",
    "\n",
    "find_median(a, b)\n",
    "        \n",
    "        \n",
    "    \n",
    "        "
   ]
  },
  {
   "cell_type": "code",
   "execution_count": null,
   "metadata": {},
   "outputs": [],
   "source": []
  }
 ],
 "metadata": {
  "kernelspec": {
   "display_name": "Python 3",
   "language": "python",
   "name": "python3"
  },
  "language_info": {
   "codemirror_mode": {
    "name": "ipython",
    "version": 3
   },
   "file_extension": ".py",
   "mimetype": "text/x-python",
   "name": "python",
   "nbconvert_exporter": "python",
   "pygments_lexer": "ipython3",
   "version": "3.6.5"
  }
 },
 "nbformat": 4,
 "nbformat_minor": 2
}
